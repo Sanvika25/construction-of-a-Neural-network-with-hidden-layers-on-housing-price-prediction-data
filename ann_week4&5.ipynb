{
  "nbformat": 4,
  "nbformat_minor": 0,
  "metadata": {
    "colab": {
      "provenance": [],
      "authorship_tag": "ABX9TyNJ6DkjQ4h1uRGQ2uZDM4N9",
      "include_colab_link": true
    },
    "kernelspec": {
      "name": "python3",
      "display_name": "Python 3"
    },
    "language_info": {
      "name": "python"
    }
  },
  "cells": [
    {
      "cell_type": "markdown",
      "metadata": {
        "id": "view-in-github",
        "colab_type": "text"
      },
      "source": [
        "<a href=\"https://colab.research.google.com/github/Sanvika25/construction-of-a-Neural-network-with-hidden-layers-on-housing-price-prediction-data/blob/main/ann_week4%265.ipynb\" target=\"_parent\"><img src=\"https://colab.research.google.com/assets/colab-badge.svg\" alt=\"Open In Colab\"/></a>"
      ]
    },
    {
      "cell_type": "code",
      "source": [
        "import numpy as np\n",
        "import pandas as pd\n",
        "from tensorflow import keras\n",
        "from tensorflow.keras import layers, optimizers\n",
        "# Read the data from CSV file\n",
        "data = pd.read_csv('Housing.csv')"
      ],
      "metadata": {
        "id": "X_BZD6zEysmK"
      },
      "execution_count": null,
      "outputs": []
    },
    {
      "cell_type": "code",
      "source": [
        "print(data.head().to_string())\n",
        "#13300000,74200,4,2,3,1,0,0,0,1,2,1,1"
      ],
      "metadata": {
        "colab": {
          "base_uri": "https://localhost:8080/"
        },
        "id": "LrUHxLwDyuab",
        "outputId": "4f3439c0-445d-4821-aafb-8b8daa801f40"
      },
      "execution_count": null,
      "outputs": [
        {
          "output_type": "stream",
          "name": "stdout",
          "text": [
            "      price  area  bedrooms  bathrooms  stories mainroad guestroom basement hotwaterheating airconditioning  parking prefarea furnishingstatus\n",
            "0  13300000  7420         4          2        3      yes        no       no              no             yes        2      yes        furnished\n",
            "1  12250000  8960         4          4        4      yes        no       no              no             yes        3       no        furnished\n",
            "2  12250000  9960         3          2        2      yes        no      yes              no              no        2      yes   semi-furnished\n",
            "3  12215000  7500         4          2        2      yes        no      yes              no             yes        3      yes        furnished\n",
            "4  11410000  7420         4          1        2      yes       yes      yes              no             yes        2       no        furnished\n"
          ]
        }
      ]
    },
    {
      "cell_type": "code",
      "source": [
        "# Extract features (X) and target variable (y) from the data\n",
        "data = data.replace(to_replace='yes',value=1)\n",
        "data = data.replace(to_replace='no',value=0)\n",
        "data = data.replace(to_replace='furnished',value=1)\n",
        "data = data.replace(to_replace='unfurnished',value=0)\n",
        "data = data.replace(to_replace='semi-furnished',value=0.5)\n",
        "X = data.iloc[:, :].values\n",
        "y = data.iloc[:, 0].values\n",
        "# Normalize the data for better training performance\n",
        "X_normalized = X / X.max(axis=0)\n",
        "y_normalized = y / y.max()\n",
        "# Create the model (same as before)\n",
        "model = keras.Sequential([\n",
        "layers.Dense(2, activation='relu', input_shape=(X.shape[1],)), # First hidden layer with 2 neurons\n",
        "layers.Dense(2, activation='relu'), # Second hidden layer with 2 neurons\n",
        "layers.Dense(1) # Output layer with one neuron (for regression)\n",
        "])\n",
        "# Set the learning rate for the Adam optimizer\n",
        "learning_rate = 0.01\n",
        "optimizer = optimizers.Adam(learning_rate=learning_rate)\n",
        "# Compile and train the model with the specified optimizer\n",
        "model.compile(optimizer=optimizer, loss='mean_squared_error')\n",
        "model.fit(X_normalized, y_normalized, epochs=10, batch_size=1)\n",
        "# Example prediction on new data\n",
        "new_data = np.array([[13300000,74200,4,2,3,1,0,0,0,1,2,1,1]])\n",
        "new_data_normalized = new_data / X.max(axis=0) # Normalize the new data based on X scaling\n",
        "predicted_normalized = model.predict(new_data_normalized)\n",
        "predicted_price = predicted_normalized[0][0] * y.max() # De-normalize the predicted value\n",
        "# De-normalize the actual output for better readability\n",
        "actual_output = y[0]"
      ],
      "metadata": {
        "colab": {
          "base_uri": "https://localhost:8080/"
        },
        "id": "JvkQ0Vfty1kZ",
        "outputId": "7dbcb8f6-cb30-4f9c-f5a3-dfc87276c6e6"
      },
      "execution_count": null,
      "outputs": [
        {
          "output_type": "stream",
          "name": "stdout",
          "text": [
            "Epoch 1/10\n",
            "545/545 [==============================] - 4s 5ms/step - loss: 0.0232\n",
            "Epoch 2/10\n",
            "545/545 [==============================] - 2s 5ms/step - loss: 0.0192\n",
            "Epoch 3/10\n",
            "545/545 [==============================] - 2s 3ms/step - loss: 0.0158\n",
            "Epoch 4/10\n",
            "545/545 [==============================] - 1s 3ms/step - loss: 0.0147\n",
            "Epoch 5/10\n",
            "545/545 [==============================] - 2s 3ms/step - loss: 0.0136\n",
            "Epoch 6/10\n",
            "545/545 [==============================] - 2s 3ms/step - loss: 0.0128\n",
            "Epoch 7/10\n",
            "545/545 [==============================] - 2s 3ms/step - loss: 0.0110\n",
            "Epoch 8/10\n",
            "545/545 [==============================] - 2s 4ms/step - loss: 0.0053\n",
            "Epoch 9/10\n",
            "545/545 [==============================] - 2s 3ms/step - loss: 7.7348e-04\n",
            "Epoch 10/10\n",
            "545/545 [==============================] - 2s 3ms/step - loss: 3.5641e-04\n",
            "1/1 [==============================] - 0s 97ms/step\n"
          ]
        }
      ]
    },
    {
      "cell_type": "code",
      "source": [
        "print(\"Predicted Price:\", predicted_price)\n",
        "print(\"Actual Price:\", actual_output)"
      ],
      "metadata": {
        "colab": {
          "base_uri": "https://localhost:8080/"
        },
        "id": "jC8g0M0Uy-k_",
        "outputId": "493dc48e-a06d-498f-c852-1d79fa5a6c5e"
      },
      "execution_count": null,
      "outputs": [
        {
          "output_type": "stream",
          "name": "stdout",
          "text": [
            "Predicted Price: 8097234.934568405\n",
            "Actual Price: 13300000\n"
          ]
        }
      ]
    },
    {
      "cell_type": "code",
      "source": [
        "from keras.models import Sequential\n",
        "from keras.layers import Dense\n",
        "\n",
        "model = Sequential([\n",
        "    Dense(2, input_shape=(2,), activation='sigmoid'),\n",
        "    Dense(3, activation='sigmoid'),\n",
        "    Dense(1)\n",
        "])\n",
        "\n",
        "model.summary()"
      ],
      "metadata": {
        "colab": {
          "base_uri": "https://localhost:8080/"
        },
        "id": "J2lM-W90zAsv",
        "outputId": "22ec9040-8b81-4cfe-b7c6-0e9bb820cd33"
      },
      "execution_count": null,
      "outputs": [
        {
          "output_type": "stream",
          "name": "stdout",
          "text": [
            "Model: \"sequential_1\"\n",
            "_________________________________________________________________\n",
            " Layer (type)                Output Shape              Param #   \n",
            "=================================================================\n",
            " dense_3 (Dense)             (None, 2)                 6         \n",
            "                                                                 \n",
            " dense_4 (Dense)             (None, 3)                 9         \n",
            "                                                                 \n",
            " dense_5 (Dense)             (None, 1)                 4         \n",
            "                                                                 \n",
            "=================================================================\n",
            "Total params: 19\n",
            "Trainable params: 19\n",
            "Non-trainable params: 0\n",
            "_________________________________________________________________\n"
          ]
        }
      ]
    },
    {
      "cell_type": "code",
      "source": [
        "from keras.models import Sequential\n",
        "from keras.layers import Dense\n",
        "\n",
        "model = Sequential([\n",
        "    layers.Dense(3, input_shape=(2,), activation='sigmoid'),\n",
        "    layers.Dense(1)\n",
        "])\n",
        "\n",
        "model.summary()"
      ],
      "metadata": {
        "colab": {
          "base_uri": "https://localhost:8080/"
        },
        "id": "5bYzC_jczITn",
        "outputId": "ba6dd947-5303-4aac-b1d8-b0aee50195c3"
      },
      "execution_count": null,
      "outputs": [
        {
          "output_type": "stream",
          "name": "stdout",
          "text": [
            "Model: \"sequential_2\"\n",
            "_________________________________________________________________\n",
            " Layer (type)                Output Shape              Param #   \n",
            "=================================================================\n",
            " dense_6 (Dense)             (None, 3)                 9         \n",
            "                                                                 \n",
            " dense_7 (Dense)             (None, 1)                 4         \n",
            "                                                                 \n",
            "=================================================================\n",
            "Total params: 13\n",
            "Trainable params: 13\n",
            "Non-trainable params: 0\n",
            "_________________________________________________________________\n"
          ]
        }
      ]
    },
    {
      "cell_type": "code",
      "source": [
        "from keras.models import Sequential\n",
        "from keras.layers import Dense\n",
        "\n",
        "model = Sequential()\n",
        "\n",
        "model.add(Dense(1, input_dim=2, activation='sigmoid', name='Layers_1', kernel_initializer='zeros', bias_initializer='RandomUniform'))\n",
        "model.add(Dense(1, activation='sigmoid', kernel_initializer='zeros', bias_initializer='RandomUniform'))\n",
        "\n",
        "model.summary()"
      ],
      "metadata": {
        "colab": {
          "base_uri": "https://localhost:8080/"
        },
        "id": "96W0cJ3kzReW",
        "outputId": "b828698f-d6e1-41b1-dbbe-0ae903f8d5ae"
      },
      "execution_count": null,
      "outputs": [
        {
          "output_type": "stream",
          "name": "stdout",
          "text": [
            "Model: \"sequential_3\"\n",
            "_________________________________________________________________\n",
            " Layer (type)                Output Shape              Param #   \n",
            "=================================================================\n",
            " Layers_1 (Dense)            (None, 1)                 3         \n",
            "                                                                 \n",
            " dense_8 (Dense)             (None, 1)                 2         \n",
            "                                                                 \n",
            "=================================================================\n",
            "Total params: 5\n",
            "Trainable params: 5\n",
            "Non-trainable params: 0\n",
            "_________________________________________________________________\n"
          ]
        }
      ]
    },
    {
      "cell_type": "code",
      "source": [
        "from keras.models import Sequential\n",
        "from keras.layers import Dense\n",
        "\n",
        "model = Sequential()\n",
        "\n",
        "model.add(Dense(5, input_dim=1, activation='sigmoid', name='layer-2', kernel_initializer='zeros', bias_initializer='random_uniform'))\n",
        "model.add(Dense(1, activation='sigmoid', kernel_initializer='zeros'))\n",
        "model.add(Dense(1, activation='sigmoid', name='layer-3', bias_initializer='random_uniform'))\n",
        "\n",
        "model.summary()"
      ],
      "metadata": {
        "id": "IIfD9VR0zYGj",
        "outputId": "a7ffa322-4d09-4728-e8bd-96b5fc1648a3",
        "colab": {
          "base_uri": "https://localhost:8080/"
        }
      },
      "execution_count": null,
      "outputs": [
        {
          "output_type": "stream",
          "name": "stdout",
          "text": [
            "Model: \"sequential_4\"\n",
            "_________________________________________________________________\n",
            " Layer (type)                Output Shape              Param #   \n",
            "=================================================================\n",
            " layer-2 (Dense)             (None, 5)                 10        \n",
            "                                                                 \n",
            " dense_9 (Dense)             (None, 1)                 6         \n",
            "                                                                 \n",
            " layer-3 (Dense)             (None, 1)                 2         \n",
            "                                                                 \n",
            "=================================================================\n",
            "Total params: 18\n",
            "Trainable params: 18\n",
            "Non-trainable params: 0\n",
            "_________________________________________________________________\n"
          ]
        }
      ]
    }
  ]
}